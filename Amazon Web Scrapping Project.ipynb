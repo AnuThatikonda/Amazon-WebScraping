{
 "cells": [
  {
   "cell_type": "code",
   "execution_count": 1,
   "id": "f236cbb9",
   "metadata": {},
   "outputs": [],
   "source": [
    "# import libraries \n",
    "\n",
    "from bs4 import BeautifulSoup\n",
    "import requests\n",
    "import time\n",
    "import datetime\n",
    "\n",
    "\n"
   ]
  },
  {
   "cell_type": "code",
   "execution_count": 10,
   "id": "9b531b61",
   "metadata": {},
   "outputs": [
    {
     "name": "stdout",
     "output_type": "stream",
     "text": [
      "\n",
      "                    Timberland PRO 6IN Direct Attach, Women's, Soft Toe, EH, WP/Insulated, MaxTrax Slip-Resistant Boot\n",
      "                   \n",
      "\n",
      "                    $149.99\n",
      "                   \n"
     ]
    }
   ],
   "source": [
    "# Connect to Website and pull in data\n",
    "\n",
    "URL = 'https://www.amazon.com/Timberland-PRO-MaxTRAX-Resistant-Insulated/dp/B0DNG85GJS/ref=sr_1_2_sspa?crid=23HPZAO3FLVF1&dib=eyJ2IjoiMSJ9.T35l5IMgSJnYKKgcQE9aPJWO72WMxFATkL2WrjLRDirqPyIj5BHhy8kXzSQFOUX764Tjt_-JyrQ6mPuLCrk0b_9Cbdrn6UxDSt4X-h1S8UHN_bflaxs8Gvm7Q7R95ifUUkK33So2zFIhXGkACnuJ8djWWK5QBsZc90v61Zh8syPVWl6DeSGXHrIYlRTdw0hp_MbxhyTkgtLHrmV-CXkT2IxDSiQWXOmxyIW1ffVrVKRPVNhvQwT5Scaq9nWJUW3OEjZx7O196Uwq5-KJA_pd7ZNg_Dd1jAt1ZpeuEgX0vi4.f7nT3oEQYvE3Jilo5Mx6WdMztUnZVxpINAxq8zne28g&dib_tag=se&keywords=timberland+boots+for+women&qid=1734282406&sprefix=timberland%2Caps%2C128&sr=8-2-spons&sp_csd=d2lkZ2V0TmFtZT1zcF9hdGY&psc=1'\n",
    "\n",
    "headers = {\"User-Agent\": \"Mozilla/5.0 (Macintosh; Intel Mac OS X 10_15_7) AppleWebKit/537.36 (KHTML, like Gecko) Chrome/131.0.0.0 Safari/537.36\", \"Accept-Encoding\":\"gzip, deflate\", \"Accept\":\"text/html,application/xhtml+xml,application/xml;q=0.9,*/*;q=0.8\", \"DNT\":\"1\",\"Connection\":\"close\", \"Upgrade-Insecure-Requests\":\"1\"}\n",
    "\n",
    "page = requests.get(URL, headers=headers)\n",
    "\n",
    "soup1 = BeautifulSoup(page.content, \"html.parser\")\n",
    "\n",
    "soup2 = BeautifulSoup(soup1.prettify(), \"html.parser\")\n",
    "\n",
    "title = soup2.find(id='productTitle').get_text()\n",
    "\n",
    "price = soup2.find(class_='aok-offscreen').get_text()\n",
    "\n",
    "\n",
    "print(title)\n",
    "print(price)\n",
    "\n",
    "\n"
   ]
  },
  {
   "cell_type": "code",
   "execution_count": 11,
   "id": "b6f7d66e",
   "metadata": {},
   "outputs": [
    {
     "name": "stdout",
     "output_type": "stream",
     "text": [
      "Timberland PRO 6IN Direct Attach, Women's, Soft Toe, EH, WP/Insulated, MaxTrax Slip-Resistant Boot\n",
      "149.99\n"
     ]
    }
   ],
   "source": [
    "# Clean up the data a little bit\n",
    "\n",
    "price = price.strip()[1:]\n",
    "title = title.strip()\n",
    "\n",
    "print(title)\n",
    "print(price)"
   ]
  },
  {
   "cell_type": "code",
   "execution_count": 12,
   "id": "4f021c23",
   "metadata": {},
   "outputs": [
    {
     "name": "stdout",
     "output_type": "stream",
     "text": [
      "2024-12-15\n"
     ]
    }
   ],
   "source": [
    "# Create a Timestamp for your output to track when data was collected\n",
    "\n",
    "import datetime\n",
    "\n",
    "today = datetime.date.today()\n",
    "\n",
    "print(today)\n"
   ]
  },
  {
   "cell_type": "code",
   "execution_count": 13,
   "id": "14d703ca",
   "metadata": {},
   "outputs": [],
   "source": [
    "# Create CSV and write headers and data into the file\n",
    "\n",
    "import csv \n",
    "\n",
    "header = ['Title', 'Price', 'Date']\n",
    "data = [title, price, today]\n",
    "\n",
    "\n",
    "with open('AmazonWebScraperDataset.csv', 'w', newline='', encoding='UTF8') as f:\n",
    "    writer = csv.writer(f)\n",
    "    writer.writerow(header)\n",
    "    writer.writerow(data)\n",
    "    \n"
   ]
  },
  {
   "cell_type": "code",
   "execution_count": 21,
   "id": "d07eeb86",
   "metadata": {},
   "outputs": [
    {
     "name": "stdout",
     "output_type": "stream",
     "text": [
      "                                               Title   Price        Date\n",
      "0  Timberland PRO 6IN Direct Attach, Women's, Sof...  149.99  2024-12-15\n",
      "1  Timberland PRO 6IN Direct Attach, Women's, Sof...  149.99  2024-12-15\n",
      "2  Timberland PRO 6IN Direct Attach, Women's, Sof...  149.99  2024-12-15\n",
      "3  Timberland PRO 6IN Direct Attach, Women's, Sof...  149.99  2024-12-15\n"
     ]
    }
   ],
   "source": [
    "import pandas as pd\n",
    "\n",
    "df = pd.read_csv(r'/Users/anuthatikonda/Downloads/AmazonWebScraperDataset.csv')\n",
    "\n",
    "print(df)\n",
    "\n"
   ]
  },
  {
   "cell_type": "code",
   "execution_count": 20,
   "id": "6b05c1eb",
   "metadata": {},
   "outputs": [],
   "source": [
    "#Now we are appending data to the csv\n",
    "\n",
    "with open('AmazonWebScraperDataset.csv', 'a+', newline='', encoding='UTF8') as f:\n",
    "    writer = csv.writer(f)\n",
    "    writer.writerow(data)"
   ]
  },
  {
   "cell_type": "code",
   "execution_count": 28,
   "id": "8e95b9e0",
   "metadata": {},
   "outputs": [],
   "source": [
    "#Combine all of the above code into one function\n",
    "\n",
    "\n",
    "def check_price():\n",
    "    URL = 'https://www.amazon.com/Timberland-PRO-MaxTRAX-Resistant-Insulated/dp/B0DNG85GJS/ref=sr_1_2_sspa?crid=23HPZAO3FLVF1&dib=eyJ2IjoiMSJ9.T35l5IMgSJnYKKgcQE9aPJWO72WMxFATkL2WrjLRDirqPyIj5BHhy8kXzSQFOUX764Tjt_-JyrQ6mPuLCrk0b_9Cbdrn6UxDSt4X-h1S8UHN_bflaxs8Gvm7Q7R95ifUUkK33So2zFIhXGkACnuJ8djWWK5QBsZc90v61Zh8syPVWl6DeSGXHrIYlRTdw0hp_MbxhyTkgtLHrmV-CXkT2IxDSiQWXOmxyIW1ffVrVKRPVNhvQwT5Scaq9nWJUW3OEjZx7O196Uwq5-KJA_pd7ZNg_Dd1jAt1ZpeuEgX0vi4.f7nT3oEQYvE3Jilo5Mx6WdMztUnZVxpINAxq8zne28g&dib_tag=se&keywords=timberland+boots+for+women&qid=1734282406&sprefix=timberland%2Caps%2C128&sr=8-2-spons&sp_csd=d2lkZ2V0TmFtZT1zcF9hdGY&psc=1'\n",
    "\n",
    "    headers = {\"User-Agent\": \"Mozilla/5.0 (Macintosh; Intel Mac OS X 10_15_7) AppleWebKit/537.36 (KHTML, like Gecko) Chrome/131.0.0.0 Safari/537.36\", \"Accept-Encoding\":\"gzip, deflate\", \"Accept\":\"text/html,application/xhtml+xml,application/xml;q=0.9,*/*;q=0.8\", \"DNT\":\"1\",\"Connection\":\"close\", \"Upgrade-Insecure-Requests\":\"1\"}\n",
    "\n",
    "    page = requests.get(URL, headers=headers)\n",
    "\n",
    "    soup1 = BeautifulSoup(page.content, \"html.parser\")\n",
    "\n",
    "    soup2 = BeautifulSoup(soup1.prettify(), \"html.parser\")\n",
    "\n",
    "    title = soup2.find(id='productTitle').get_text()\n",
    "\n",
    "    price = soup2.find(class_='aok-offscreen').get_text()\n",
    "\n",
    "    price = price.strip()[1:]\n",
    "    title = title.strip()\n",
    "\n",
    "    import datetime\n",
    "\n",
    "    today = datetime.date.today()\n",
    "    \n",
    "    import csv \n",
    "\n",
    "    header = ['Title', 'Price', 'Date']\n",
    "    data = [title, price, today]\n",
    "\n",
    "    with open('AmazonWebScraperDataset.csv', 'a+', newline='', encoding='UTF8') as f:\n",
    "        writer = csv.writer(f)\n",
    "        writer.writerow(data)\n",
    "        \n",
    " \n",
    "    "
   ]
  },
  {
   "cell_type": "code",
   "execution_count": 29,
   "id": "c72f2c4e",
   "metadata": {},
   "outputs": [
    {
     "ename": "KeyboardInterrupt",
     "evalue": "",
     "output_type": "error",
     "traceback": [
      "\u001b[0;31m---------------------------------------------------------------------------\u001b[0m",
      "\u001b[0;31mKeyboardInterrupt\u001b[0m                         Traceback (most recent call last)",
      "Cell \u001b[0;32mIn[29], line 5\u001b[0m\n\u001b[1;32m      3\u001b[0m \u001b[38;5;28;01mwhile\u001b[39;00m(\u001b[38;5;28;01mTrue\u001b[39;00m):\n\u001b[1;32m      4\u001b[0m     check_price()\n\u001b[0;32m----> 5\u001b[0m     time\u001b[38;5;241m.\u001b[39msleep(\u001b[38;5;241m5\u001b[39m)\n",
      "\u001b[0;31mKeyboardInterrupt\u001b[0m: "
     ]
    }
   ],
   "source": [
    "# Runs check_price after a set time and inputs data into your CSV\n",
    "\n",
    "while(True):\n",
    "    check_price()\n",
    "    time.sleep(5)"
   ]
  },
  {
   "cell_type": "code",
   "execution_count": 30,
   "id": "00af7126",
   "metadata": {},
   "outputs": [
    {
     "name": "stdout",
     "output_type": "stream",
     "text": [
      "                                                Title   Price        Date\n",
      "0   Timberland PRO 6IN Direct Attach, Women's, Sof...  149.99  2024-12-15\n",
      "1   Timberland PRO 6IN Direct Attach, Women's, Sof...  149.99  2024-12-15\n",
      "2   Timberland PRO 6IN Direct Attach, Women's, Sof...  149.99  2024-12-15\n",
      "3   Timberland PRO 6IN Direct Attach, Women's, Sof...  149.99  2024-12-15\n",
      "4   Timberland PRO 6IN Direct Attach, Women's, Sof...  149.99  2024-12-15\n",
      "5   Timberland PRO 6IN Direct Attach, Women's, Sof...  149.99  2024-12-15\n",
      "6   Timberland PRO 6IN Direct Attach, Women's, Sof...  149.99  2024-12-15\n",
      "7   Timberland PRO 6IN Direct Attach, Women's, Sof...  149.99  2024-12-15\n",
      "8   Timberland PRO 6IN Direct Attach, Women's, Sof...  149.99  2024-12-15\n",
      "9   Timberland PRO 6IN Direct Attach, Women's, Sof...  149.99  2024-12-15\n",
      "10  Timberland PRO 6IN Direct Attach, Women's, Sof...  149.99  2024-12-15\n",
      "11  Timberland PRO 6IN Direct Attach, Women's, Sof...  149.99  2024-12-15\n"
     ]
    }
   ],
   "source": [
    "import pandas as pd\n",
    "\n",
    "df = pd.read_csv(r'/Users/anuthatikonda/Downloads/AmazonWebScraperDataset.csv')\n",
    "\n",
    "print(df)"
   ]
  }
 ],
 "metadata": {
  "kernelspec": {
   "display_name": "Python 3 (ipykernel)",
   "language": "python",
   "name": "python3"
  },
  "language_info": {
   "codemirror_mode": {
    "name": "ipython",
    "version": 3
   },
   "file_extension": ".py",
   "mimetype": "text/x-python",
   "name": "python",
   "nbconvert_exporter": "python",
   "pygments_lexer": "ipython3",
   "version": "3.11.7"
  }
 },
 "nbformat": 4,
 "nbformat_minor": 5
}
